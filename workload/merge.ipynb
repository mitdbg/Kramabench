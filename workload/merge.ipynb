{
 "cells": [
  {
   "cell_type": "code",
   "execution_count": 1,
   "id": "3502c66f",
   "metadata": {},
   "outputs": [],
   "source": [
    "import json\n",
    "import os\n",
    "\n",
    "# sort the filenames by the numerical index that happens to be in the filename between a dash and an underscore\n",
    "def extract_index(filename):\n",
    "    index = filename.split(\"-\")[-1].split(\"_\")[0]\n",
    "    return int(index)\n",
    "\n",
    "def extract_task_id(filename):\n",
    "    x = filename.split(\"-\")\n",
    "    domain = x[0]\n",
    "    question_idx = x[1]+\"-\"+x[2].split(\"_\")[0]\n",
    "    return f\"{domain}-{question_idx}\"\n",
    "\n",
    "def populate_json(domain):\n",
    "    path = f\"../data/{domain}/studies/understanding/\"\n",
    "    filenames = os.listdir(path)\n",
    "    filenames = [f for f in filenames if f.endswith(\".json\")]\n",
    "    filenames.sort(key=extract_index)\n",
    "\n",
    "    # read main task file\n",
    "    main_task_file = f\"{domain}.json\"\n",
    "    with open(main_task_file, \"r\") as f:\n",
    "        main_tasks = json.load(f)\n",
    "\n",
    "    for fname in filenames:\n",
    "        task_id = extract_task_id(fname)\n",
    "        try:\n",
    "            with open(path+fname, \"r\") as f:\n",
    "                keysteps = json.load(f)\n",
    "        except json.JSONDecodeError:\n",
    "            print(f\"Error decoding JSON from file: {path+fname}\")\n",
    "            raise NotImplementedError\n",
    "\n",
    "        subtasks = []\n",
    "        for idx, step in enumerate(keysteps):\n",
    "            subtask_id = task_id + \"-\" + str(idx+1)   \n",
    "            subtask_dict = {\n",
    "                \"id\": subtask_id,\n",
    "                \"step\": step,\n",
    "                \"query\": \"\",\n",
    "                \"answer\": \"\",\n",
    "                \"answer_type\": \"\",\n",
    "                \"data_sources\": \"\"\n",
    "            }\n",
    "            subtasks.append(subtask_dict)\n",
    "\n",
    "        task_index = [i for i, task in enumerate(main_tasks) if task[\"id\"] == task_id][0]\n",
    "        main_tasks[task_index][\"key_functionalities\"] = subtasks\n",
    "\n",
    "    json.dump(main_tasks, open(main_task_file, \"w\"), indent=4)"
   ]
  },
  {
   "cell_type": "code",
   "execution_count": 4,
   "id": "b00793c9",
   "metadata": {},
   "outputs": [],
   "source": [
    "for domain in [\"archeology\", \"astronomy\", \"biomedical\", \"environment\", \"legal\", \"wildfire\"]:\n",
    "    populate_json(domain)"
   ]
  }
 ],
 "metadata": {
  "kernelspec": {
   "display_name": "LLMBenchmark",
   "language": "python",
   "name": "python3"
  },
  "language_info": {
   "codemirror_mode": {
    "name": "ipython",
    "version": 3
   },
   "file_extension": ".py",
   "mimetype": "text/x-python",
   "name": "python",
   "nbconvert_exporter": "python",
   "pygments_lexer": "ipython3",
   "version": "3.13.2"
  }
 },
 "nbformat": 4,
 "nbformat_minor": 5
}
